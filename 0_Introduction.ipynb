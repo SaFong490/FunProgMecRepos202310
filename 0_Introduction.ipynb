{
  "cells": [
    {
      "cell_type": "markdown",
      "id": "6bb7deb9",
      "metadata": {
        "id": "6bb7deb9"
      },
      "source": [
        "# Introducción\n",
        "\n",
        "## Primeros Pasos\n",
        "\n",
        "Este es un párrafo en Markdown. Se escribe normalito.\n",
        "\n",
        "Algunos estilos son: _Esto es cursiva_, **Esto es negrita**\n",
        "\n",
        "Si quiero agregar código en línea, utilizo el backtip: `variable_1`, `variable_2`\n",
        "\n",
        "Y LaTeX para ecuaciones: $x, y, z$\n",
        "\n",
        "$$ y = mx + b $$\n",
        "\n",
        "## Listas Desordenadas\n",
        "\n",
        "Ingredientes:\n",
        "- Harina\n",
        "- Huevo\n",
        "- Leche\n",
        "- Azúcar\n",
        "- Mantequilla\n",
        "\n",
        "\n",
        "## Listas Ordenadas\n",
        "\n",
        "Receta:\n",
        "\n",
        "1. Mezcle los ingredientes secos (harina, azúcar)\n",
        "2. Agregue la leche y el huevo\n",
        "3. Mezcle con la mantequilla\n",
        "\n",
        "### Texto \"Estilizado\" o para frases:\n",
        "\n",
        "> Esta es una información importante"
      ]
    },
    {
      "cell_type": "markdown",
      "source": [],
      "metadata": {
        "id": "AA7QRawRtkrk"
      },
      "id": "AA7QRawRtkrk"
    },
    {
      "cell_type": "code",
      "execution_count": null,
      "id": "f5e3c6e7",
      "metadata": {
        "id": "f5e3c6e7",
        "outputId": "7378783d-9d82-4318-cffb-5d90492857a8"
      },
      "outputs": [
        {
          "name": "stdout",
          "output_type": "stream",
          "text": [
            "Bienvenidos a Python\n",
            "Hola Mikheltodd es un gusto conocerte.\n"
          ]
        }
      ],
      "source": [
        "print(\"Bienvenidos a Python\")\n",
        "name = \"Mikheltodd\"\n",
        "print(\"Hola\", name, \"es un gusto conocerte.\")"
      ]
    },
    {
      "cell_type": "code",
      "execution_count": null,
      "id": "f66c5d54",
      "metadata": {
        "id": "f66c5d54"
      },
      "outputs": [],
      "source": []
    },
    {
      "cell_type": "markdown",
      "source": [
        "## Comentarios"
      ],
      "metadata": {
        "id": "CX6dOUn4tnoj"
      },
      "id": "CX6dOUn4tnoj"
    },
    {
      "cell_type": "code",
      "source": [
        "# Este es un comentario"
      ],
      "metadata": {
        "id": "SC2atY44uH12"
      },
      "id": "SC2atY44uH12",
      "execution_count": 1,
      "outputs": []
    },
    {
      "cell_type": "markdown",
      "source": [
        "##Variables"
      ],
      "metadata": {
        "id": "dKeOrsXmvUhy"
      },
      "id": "dKeOrsXmvUhy"
    },
    {
      "cell_type": "code",
      "source": [
        "name = \"Samuel\"\n",
        "print(name)"
      ],
      "metadata": {
        "colab": {
          "base_uri": "https://localhost:8080/"
        },
        "id": "8Ot0NGT6vb6I",
        "outputId": "e2cc4c6b-c35b-40b5-a689-f530d157ab4e"
      },
      "id": "8Ot0NGT6vb6I",
      "execution_count": 2,
      "outputs": [
        {
          "output_type": "stream",
          "name": "stdout",
          "text": [
            "Samuel\n"
          ]
        }
      ]
    },
    {
      "cell_type": "code",
      "source": [
        "age = 16\n",
        "height = 1.85"
      ],
      "metadata": {
        "id": "fHrsfMXGyBmY"
      },
      "id": "fHrsfMXGyBmY",
      "execution_count": 6,
      "outputs": []
    },
    {
      "cell_type": "code",
      "source": [
        "print (type(age))\n",
        "print (type(height))"
      ],
      "metadata": {
        "colab": {
          "base_uri": "https://localhost:8080/"
        },
        "id": "z8BMAh4Wyga_",
        "outputId": "4d474432-7139-45a9-a14a-f000f2a197b7"
      },
      "id": "z8BMAh4Wyga_",
      "execution_count": 7,
      "outputs": [
        {
          "output_type": "stream",
          "name": "stdout",
          "text": [
            "<class 'int'>\n",
            "<class 'float'>\n"
          ]
        }
      ]
    },
    {
      "cell_type": "code",
      "source": [
        "a = 5\n",
        "b = 2\n",
        "c = a + b\n",
        "d = a - b\n",
        "e = a * b\n",
        "f = a / b\n",
        "print(c)\n",
        "print(d)\n",
        "print(e)\n",
        "print(f)"
      ],
      "metadata": {
        "colab": {
          "base_uri": "https://localhost:8080/"
        },
        "id": "r78RS60AyoA_",
        "outputId": "d8d62079-5351-4611-cdce-b12e351dc6ce"
      },
      "id": "r78RS60AyoA_",
      "execution_count": 10,
      "outputs": [
        {
          "output_type": "stream",
          "name": "stdout",
          "text": [
            "7\n",
            "3\n",
            "10\n",
            "2.5\n"
          ]
        }
      ]
    },
    {
      "cell_type": "code",
      "source": [
        "a = 5\n",
        "b = 3.5\n",
        "c = 2\n",
        "print(2 * a + 3 * b - 5 * c)"
      ],
      "metadata": {
        "colab": {
          "base_uri": "https://localhost:8080/"
        },
        "id": "PkRWfNaoz17i",
        "outputId": "a3c2e38c-dc3b-499c-8255-ce9e8b9bef12"
      },
      "id": "PkRWfNaoz17i",
      "execution_count": 15,
      "outputs": [
        {
          "output_type": "stream",
          "name": "stdout",
          "text": [
            "10.5\n"
          ]
        }
      ]
    },
    {
      "cell_type": "code",
      "source": [
        "# Cálculo de la potencia: dos elevado a la tres\n",
        "a= 2 ** 3\n",
        "b= 5 ** 0.5\n",
        "# Cálculo de la raíz: raíz cuadrada de cinco\n",
        "print(a)\n",
        "print(b)"
      ],
      "metadata": {
        "colab": {
          "base_uri": "https://localhost:8080/"
        },
        "id": "LYLmq6Br0rpr",
        "outputId": "2be9fdef-6cb0-4384-d40a-0103f5721add"
      },
      "id": "LYLmq6Br0rpr",
      "execution_count": 21,
      "outputs": [
        {
          "output_type": "stream",
          "name": "stdout",
          "text": [
            "8\n",
            "2.23606797749979\n"
          ]
        }
      ]
    },
    {
      "cell_type": "code",
      "source": [
        "# Cálculo del módulo\n",
        "n = 5\n",
        "x = n % 2\n",
        "print(x)"
      ],
      "metadata": {
        "colab": {
          "base_uri": "https://localhost:8080/"
        },
        "id": "E6dTz3rb2wwN",
        "outputId": "28b90d73-16b0-4441-846c-5733aff384e3"
      },
      "id": "E6dTz3rb2wwN",
      "execution_count": 25,
      "outputs": [
        {
          "output_type": "stream",
          "name": "stdout",
          "text": [
            "1\n"
          ]
        }
      ]
    },
    {
      "cell_type": "markdown",
      "source": [
        "##Concatenación"
      ],
      "metadata": {
        "id": "c-Ok6mzU4g6N"
      },
      "id": "c-Ok6mzU4g6N"
    },
    {
      "cell_type": "code",
      "source": [
        " greetings = \"Good Morning!\"\n",
        " name = \"Samuel\"\n",
        " age = 16\n",
        " message = greetings + \" My name is \" + name + \" and I am \" + str(age) + \" years old.\"\n",
        " print(message)\n"
      ],
      "metadata": {
        "colab": {
          "base_uri": "https://localhost:8080/"
        },
        "id": "ei7NEHO324p_",
        "outputId": "377444c6-30b0-4256-f770-135e26b40705"
      },
      "id": "ei7NEHO324p_",
      "execution_count": 30,
      "outputs": [
        {
          "output_type": "stream",
          "name": "stdout",
          "text": [
            "Good Morning! My name is Samuel and I am 16 years old.\n"
          ]
        }
      ]
    },
    {
      "cell_type": "markdown",
      "source": [
        "##+="
      ],
      "metadata": {
        "id": "t-HbaaVi6hZp"
      },
      "id": "t-HbaaVi6hZp"
    },
    {
      "cell_type": "code",
      "source": [
        "price = 5000\n",
        "print(price)\n",
        "price+=500\n",
        "price *= 3\n",
        "price /=5\n",
        "price -= 5\n",
        "print(price)"
      ],
      "metadata": {
        "colab": {
          "base_uri": "https://localhost:8080/"
        },
        "id": "37qcYKij6jV3",
        "outputId": "bf87de6c-f2f4-4fc4-f835-ea91b1a39ed1"
      },
      "id": "37qcYKij6jV3",
      "execution_count": 33,
      "outputs": [
        {
          "output_type": "stream",
          "name": "stdout",
          "text": [
            "5000\n",
            "3295.0\n"
          ]
        }
      ]
    },
    {
      "cell_type": "code",
      "source": [],
      "metadata": {
        "id": "XiYM5tPC6plZ"
      },
      "id": "XiYM5tPC6plZ",
      "execution_count": null,
      "outputs": []
    },
    {
      "cell_type": "markdown",
      "source": [
        "##Multi-line\n"
      ],
      "metadata": {
        "id": "EDG4eVOC8GEC"
      },
      "id": "EDG4eVOC8GEC"
    },
    {
      "cell_type": "code",
      "source": [],
      "metadata": {
        "id": "_oRnqf5Y8IS2"
      },
      "id": "_oRnqf5Y8IS2",
      "execution_count": null,
      "outputs": []
    },
    {
      "cell_type": "code",
      "source": [
        "message = \"\"\"This is a paragraph.\n",
        "It has a lot of lines.\n",
        "ANd if it has any rhyme\n",
        "That´s great\"\"\"\n",
        "print(message)"
      ],
      "metadata": {
        "colab": {
          "base_uri": "https://localhost:8080/"
        },
        "id": "DFSmFFCO8Izx",
        "outputId": "93f2b03e-5e8f-489a-9a12-b4232e91863d"
      },
      "id": "DFSmFFCO8Izx",
      "execution_count": 39,
      "outputs": [
        {
          "output_type": "stream",
          "name": "stdout",
          "text": [
            "This is a paragraph.\n",
            "It has a lot of lines.\n",
            "ANd if it has any rhyme\n",
            "That´s great\n"
          ]
        }
      ]
    },
    {
      "cell_type": "code",
      "source": [],
      "metadata": {
        "id": "qsunAS6l8U9P"
      },
      "id": "qsunAS6l8U9P",
      "execution_count": null,
      "outputs": []
    }
  ],
  "metadata": {
    "kernelspec": {
      "display_name": "Python 3 (ipykernel)",
      "language": "python",
      "name": "python3"
    },
    "language_info": {
      "codemirror_mode": {
        "name": "ipython",
        "version": 3
      },
      "file_extension": ".py",
      "mimetype": "text/x-python",
      "name": "python",
      "nbconvert_exporter": "python",
      "pygments_lexer": "ipython3",
      "version": "3.10.6"
    },
    "colab": {
      "provenance": []
    }
  },
  "nbformat": 4,
  "nbformat_minor": 5
}